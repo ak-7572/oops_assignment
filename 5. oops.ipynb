{
 "cells": [
  {
   "cell_type": "code",
   "execution_count": 1,
   "id": "2f397e3a-c10f-43d6-97e5-5036bdc7f8c3",
   "metadata": {},
   "outputs": [],
   "source": [
    "# Q1. What are the five key concepts of Object-Oriented Programming (OOP)?\n",
    "\n",
    "\n",
    "# 1. Encapsulation : Think of encapsulation as putting data and the code that works with that data into a neat package called a class. This helps to keep things organized and makes sure that no one can mess with the data directly, only through the methods provided.\n",
    "\n",
    "# 2. Abstraction : Abstraction is about hiding the complicated stuff and showing only the essential features. Imagine you’re driving a car: you don’t need to know how the engine works to drive it, you just need to know how to use the steering wheel and pedals. Similarly, in programming, abstraction helps you focus on what an object does rather than how it does it.\n",
    "\n",
    "# 3. Inheritance : Inheritance lets you create a new class based on an existing class. It’s like inheriting traits from your parents. For example, if you have a class for “Vehicle,” you can create a class for “Car” that inherits features from “Vehicle,” and then add more specific features just for cars.\n",
    "\n",
    "# 4. Polymorphism : Polymorphism means \"many shapes.\" It allows different classes to be treated as instances of the same class through a common interface. For example, you can use a general “Animal” type to refer to a “Dog” or “Cat,” and they can all respond to the same method (like “makeSound”) in their own unique ways.\n",
    "\n",
    "# 5. Composition : Composition involves building complex objects by combining simpler ones. Instead of creating a big, complex class, you make smaller classes and put them together. For example, a “Computer” class might be made up of “Processor,” “Memory,” and “HardDrive” classes. This way, you can change or update individual parts without affecting the whole system."
   ]
  },
  {
   "cell_type": "code",
   "execution_count": 5,
   "id": "db1e92a2-5843-4271-9275-fedc0cbe85f2",
   "metadata": {},
   "outputs": [
    {
     "name": "stdout",
     "output_type": "stream",
     "text": [
      "car information :\n",
      "make : tata \n",
      "model : punch \n",
      "year : 2021\n"
     ]
    }
   ],
   "source": [
    "# Q2. Write a Python class for a `Car` with attributes for `make`, `model`, and `year`. Include a method to display the car's information.\n",
    "\n",
    "class car:\n",
    "    def __init__(self, make, model, year):\n",
    "        self.make = make\n",
    "        self.model = model\n",
    "        self.year = year\n",
    "    \n",
    "    def car_info(self):\n",
    "        info = (f\"car information :\\n\"\n",
    "               f\"make : {self.make} \\n\"\n",
    "               f\"model : {self.model} \\n\"\n",
    "               f\"year : {self.year}\")\n",
    "        print(info)\n",
    "        \n",
    "my_car = car(\"tata\", \"punch\", 2021)\n",
    "my_car.car_info()"
   ]
  },
  {
   "cell_type": "code",
   "execution_count": 8,
   "id": "72718aca-99e9-41bb-9939-9e7cab84246f",
   "metadata": {},
   "outputs": [
    {
     "name": "stdout",
     "output_type": "stream",
     "text": [
      "buddy says woof!!\n"
     ]
    }
   ],
   "source": [
    "# Q3. Explain the difference between instance methods and class methods. Provide an example of each.\n",
    "\n",
    "\n",
    "# Instance Methods : Instance methods are functions defined inside a class that operate on an instance of the class. They work with data specific to a particular object created from the class.\n",
    "# They require an instance of the class to be called. The first parameter of an instance method is usually self, which refers to the object itself.\n",
    "# Example :\n",
    "\n",
    "class dog:\n",
    "    def __init__(self, name, age):\n",
    "        self.name = name\n",
    "        self.age = age\n",
    "    \n",
    "    def bark(self):\n",
    "        print(f\"{self.name} says woof!!\")\n",
    "        \n",
    "my_dog = dog (\"buddy\", 3)\n",
    "my_dog.bark()"
   ]
  },
  {
   "cell_type": "code",
   "execution_count": 1,
   "id": "50793249-0e48-4ee5-8a65-5c72fb34eb21",
   "metadata": {},
   "outputs": [
    {
     "name": "stdout",
     "output_type": "stream",
     "text": [
      "All dogs have 4 legs.\n"
     ]
    }
   ],
   "source": [
    "# Class Methods : Class methods are functions defined inside a class that operate on the class itself rather than on instances of the class. They can be used to access or modify class-level data that is shared among all instances.\n",
    "# They do not require an instance of the class to be called. Instead, they use a special parameter, usually named cls, which refers to the class itself.\n",
    "# Example:\n",
    "\n",
    "class Dog:\n",
    "    number_of_legs = 4\n",
    "\n",
    "    @classmethod\n",
    "    def describe(cls):\n",
    "        print(f\"All dogs have {cls.number_of_legs} legs.\")\n",
    "\n",
    "Dog.describe()"
   ]
  },
  {
   "cell_type": "code",
   "execution_count": 2,
   "id": "bea1b9f1-af2c-40f2-ad5b-a294eae8ab60",
   "metadata": {},
   "outputs": [
    {
     "name": "stdout",
     "output_type": "stream",
     "text": [
      "Hello, World!\n"
     ]
    }
   ],
   "source": [
    "#Q4. How does Python implement method overloading? Give an example.\n",
    "\n",
    "\n",
    "# method overloading works a bit differently compared to some other languages. Instead of having multiple methods with the same name but different parameters, Python allows only one method with a given name in a class.\n",
    "\n",
    "# Example :\n",
    "\n",
    "class Greeting:\n",
    "    def say_hello(self, name=None):\n",
    "        if name is None:\n",
    "            print(\"Hello, World!\")\n",
    "        else:\n",
    "            print(f\"Hello, {name}!\")\n",
    "\n",
    "greet = Greeting()\n",
    "\n",
    "greet.say_hello()"
   ]
  },
  {
   "cell_type": "code",
   "execution_count": 3,
   "id": "f6017cdd-4611-4cf7-9f88-8a98e601915c",
   "metadata": {},
   "outputs": [
    {
     "name": "stdout",
     "output_type": "stream",
     "text": [
      "Hello, ajay sir!\n"
     ]
    }
   ],
   "source": [
    "greet.say_hello(\"ajay sir\")"
   ]
  },
  {
   "cell_type": "code",
   "execution_count": 4,
   "id": "de750b3b-9c02-464b-868b-79099e332241",
   "metadata": {},
   "outputs": [
    {
     "name": "stdout",
     "output_type": "stream",
     "text": [
      "5\n",
      "This is public\n"
     ]
    }
   ],
   "source": [
    "# Q5. What are the three types of access modifiers in Python? How are they denoted?\n",
    "\n",
    "\n",
    "# 1. Public : These are accessible from anywhere, both inside and outside the class.\n",
    "# Denoted by : No underscore before the attribute or method name.\n",
    "# Example :\n",
    "\n",
    "class MyClass:\n",
    "    def __init__(self):\n",
    "        self.public_var = 5  \n",
    "\n",
    "    def public_method(self):\n",
    "        return \"This is public\"\n",
    "\n",
    "obj = MyClass()\n",
    "print(obj.public_var)      \n",
    "print(obj.public_method())  \n"
   ]
  },
  {
   "cell_type": "code",
   "execution_count": 5,
   "id": "a05e4f90-3701-4ddd-a7d7-06cecccab75c",
   "metadata": {},
   "outputs": [
    {
     "name": "stdout",
     "output_type": "stream",
     "text": [
      "10\n",
      "This is protected\n"
     ]
    }
   ],
   "source": [
    "# 2. Protected :  These are intended to be used within the class and its subclasses. Although they are not truly private, they signal that these attributes or methods should not be accessed directly from outside the class.\n",
    "# Denoted by : A single underscore before the attribute or method name (e.g., _protected_var).\n",
    "# Example :\n",
    "\n",
    "class MyClass:\n",
    "    def __init__(self):\n",
    "        self._protected_var = 10  \n",
    "\n",
    "    def _protected_method(self):\n",
    "        return \"This is protected\"\n",
    "\n",
    "obj = MyClass()\n",
    "print(obj._protected_var)      \n",
    "print(obj._protected_method())  \n"
   ]
  },
  {
   "cell_type": "code",
   "execution_count": 6,
   "id": "aef05e96-5811-42e8-97e4-fdfdd4f7fa70",
   "metadata": {},
   "outputs": [],
   "source": [
    "# 3. Private : These are intended to be private to the class and not accessible from outside the class. Python uses name mangling to make it harder to access private attributes and methods from outside the class.\n",
    "# Denoted by : Two underscores before the attribute or method name (e.g., __private_var).\n",
    "# Example :\n",
    "\n",
    "class MyClass:\n",
    "    def __init__(self):\n",
    "        self.__private_var = 20  \n",
    "\n",
    "    def __private_method(self):\n",
    "        return \"This is private\"\n",
    "\n",
    "obj = MyClass()\n",
    "# print(obj.__private_var)    # This will raise an AttributeError\n",
    "# print(obj.__private_method())  # This will raise an AttributeError"
   ]
  },
  {
   "cell_type": "code",
   "execution_count": 8,
   "id": "ac7823e9-1498-41d4-a266-a40ce6cd298d",
   "metadata": {},
   "outputs": [
    {
     "name": "stdout",
     "output_type": "stream",
     "text": [
      "I am the parent.\n"
     ]
    }
   ],
   "source": [
    "# Q6. Describe the five types of inheritance in Python. Provide a simple example of multiple inheritance.\n",
    "\n",
    "# Inheritance in Python allows a class to inherit attributes and methods from another class. This helps in creating a hierarchical class structure and promotes code reuse. Here are the five types of inheritance in Python:\n",
    "\n",
    "# 1. Single Inheritance : A class inherits from just one parent class.\n",
    "# Example :\n",
    "\n",
    "class Parent:\n",
    "    def speak(self):\n",
    "        print(\"I am the parent.\")\n",
    "\n",
    "class Child(Parent):\n",
    "    pass\n",
    "\n",
    "c = Child()\n",
    "c.speak() \n"
   ]
  },
  {
   "cell_type": "code",
   "execution_count": 9,
   "id": "e1ea045e-d57c-46f5-9d1b-dc8b2dffac6c",
   "metadata": {},
   "outputs": [
    {
     "name": "stdout",
     "output_type": "stream",
     "text": [
      "Method from Parent1\n",
      "Method from Parent2\n"
     ]
    }
   ],
   "source": [
    "# 2. Multiple Inheritance : A class inherits from more than one parent class.\n",
    "# Example :\n",
    "\n",
    "class Parent1:\n",
    "    def method1(self):\n",
    "        print(\"Method from Parent1\")\n",
    "\n",
    "class Parent2:\n",
    "    def method2(self):\n",
    "        print(\"Method from Parent2\")\n",
    "\n",
    "class Child(Parent1, Parent2):\n",
    "    pass\n",
    "\n",
    "c = Child()\n",
    "c.method1()  \n",
    "c.method2() \n"
   ]
  },
  {
   "cell_type": "code",
   "execution_count": 10,
   "id": "e0067f64-9a9c-46c1-b7eb-866527253fd3",
   "metadata": {},
   "outputs": [
    {
     "name": "stdout",
     "output_type": "stream",
     "text": [
      "Method from Grandparent\n",
      "Method from Parent\n"
     ]
    }
   ],
   "source": [
    "# 3. Multilevel Inheritance : A class inherits from another class which itself inherits from another class.\n",
    "# Example:\n",
    "\n",
    "class Grandparent:\n",
    "    def method1(self):\n",
    "        print(\"Method from Grandparent\")\n",
    "\n",
    "class Parent(Grandparent):\n",
    "    def method2(self):\n",
    "        print(\"Method from Parent\")\n",
    "\n",
    "class Child(Parent):\n",
    "    pass\n",
    "\n",
    "c = Child()\n",
    "c.method1()  \n",
    "c.method2()  \n"
   ]
  },
  {
   "cell_type": "code",
   "execution_count": 11,
   "id": "39af4276-7b7a-43b1-9000-ae27ad9785a5",
   "metadata": {},
   "outputs": [
    {
     "name": "stdout",
     "output_type": "stream",
     "text": [
      "Method from Parent\n",
      "Method from Parent\n"
     ]
    }
   ],
   "source": [
    "# 4. Hierarchical Inheritance : Multiple classes inherit from a single parent class.\n",
    "# Example:\n",
    "\n",
    "class Parent:\n",
    "    def method(self):\n",
    "        print(\"Method from Parent\")\n",
    "\n",
    "class Child1(Parent):\n",
    "    pass\n",
    "\n",
    "class Child2(Parent):\n",
    "    pass\n",
    "\n",
    "c1 = Child1()\n",
    "c2 = Child2()\n",
    "c1.method()  \n",
    "c2.method()  \n"
   ]
  },
  {
   "cell_type": "code",
   "execution_count": 12,
   "id": "214c372f-4385-4c43-aebd-47bffd0b6ad6",
   "metadata": {},
   "outputs": [
    {
     "name": "stdout",
     "output_type": "stream",
     "text": [
      "Method from Base\n",
      "Method from Parent1\n",
      "Method from Parent2\n"
     ]
    }
   ],
   "source": [
    "# 5. Hybrid Inheritance : A combination of two or more types of inheritance. It can include multiple, multilevel, hierarchical, and other types of inheritance.\n",
    "# Example :\n",
    "\n",
    "class Base:\n",
    "    def method(self):\n",
    "        print(\"Method from Base\")\n",
    "\n",
    "class Parent1(Base):\n",
    "    def method1(self):\n",
    "        print(\"Method from Parent1\")\n",
    "\n",
    "class Parent2(Base):\n",
    "    def method2(self):\n",
    "        print(\"Method from Parent2\")\n",
    "\n",
    "class Child(Parent1, Parent2):\n",
    "    pass\n",
    "\n",
    "c = Child()\n",
    "c.method()  \n",
    "c.method1()  \n",
    "c.method2()  \n"
   ]
  },
  {
   "cell_type": "code",
   "execution_count": 13,
   "id": "46680ced-d63c-4f29-a47d-286f9c324c23",
   "metadata": {},
   "outputs": [
    {
     "name": "stdout",
     "output_type": "stream",
     "text": [
      "Method in B\n"
     ]
    }
   ],
   "source": [
    "# Q7. What is the Method Resolution Order (MRO) in Python? How can you retrieve it programmatically?\n",
    "\n",
    "\n",
    "# The Method Resolution Order (MRO) in Python is the order in which classes are checked when a method or attribute is called on an object. This is especially important in complex inheritance scenarios, like multiple inheritance, where the same method might be defined in more than one parent class.\n",
    "# Purpose: MRO determines the sequence in which base classes are searched when looking for a method or attribute.\n",
    "# Python uses a specific algorithm called C3 linearization (or C3 superclass linearization) to define this order, ensuring a consistent and predictable method resolution in the presence of multiple inheritance.\n",
    "# Example :\n",
    "\n",
    "class A:\n",
    "    def method(self):\n",
    "        print(\"Method in A\")\n",
    "\n",
    "class B(A):\n",
    "    def method(self):\n",
    "        print(\"Method in B\")\n",
    "\n",
    "class C(A):\n",
    "    def method(self):\n",
    "        print(\"Method in C\")\n",
    "\n",
    "class D(B, C):\n",
    "    pass\n",
    "\n",
    "d = D()\n",
    "d.method() \n"
   ]
  },
  {
   "cell_type": "code",
   "execution_count": 14,
   "id": "050e62e6-3531-4840-89ea-2bf785c481b2",
   "metadata": {},
   "outputs": [],
   "source": [
    "# Q8. Create an abstract base class `Shape` with an abstract method `area()`. Then create two subclasses Circle` and `Rectangle` that implement the `area()` method.\n",
    "\n",
    "from abc import ABC, abstractmethod\n",
    "import math\n",
    "\n",
    "class Shape(ABC):\n",
    "    @abstractmethod\n",
    "    def area(self):\n",
    "        pass"
   ]
  },
  {
   "cell_type": "code",
   "execution_count": 15,
   "id": "cbab4112-89d9-4ae8-a031-e6574e71d15e",
   "metadata": {},
   "outputs": [],
   "source": [
    "class Circle(Shape):\n",
    "    def __init__(self, radius):\n",
    "        self.radius = radius\n",
    "\n",
    "    def area(self):\n",
    "        return math.pi * (self.radius ** 2)\n",
    "\n",
    "class Rectangle(Shape):\n",
    "    def __init__(self, width, height):\n",
    "        self.width = width\n",
    "        self.height = height\n",
    "\n",
    "    def area(self):\n",
    "        return self.width * self.height\n"
   ]
  },
  {
   "cell_type": "code",
   "execution_count": 16,
   "id": "7e7dbf85-debd-494b-9719-70fec31c0243",
   "metadata": {},
   "outputs": [
    {
     "name": "stdout",
     "output_type": "stream",
     "text": [
      "Circle area: 78.53981633974483\n",
      "Rectangle area: 24\n"
     ]
    }
   ],
   "source": [
    "circle = Circle(5)\n",
    "rectangle = Rectangle(4, 6)\n",
    "\n",
    "print(f\"Circle area: {circle.area()}\")       \n",
    "print(f\"Rectangle area: {rectangle.area()}\")  \n"
   ]
  },
  {
   "cell_type": "code",
   "execution_count": 17,
   "id": "d4ed10c2-796f-4d13-9bce-c717dde47954",
   "metadata": {},
   "outputs": [],
   "source": [
    "# Q9. Demonstrate polymorphism by creating a function that can work with different shape objects to calculate and print their areas.\n",
    "\n",
    "# Polymorphism allows you to use a unified interface to work with objects of different classes. In this case, you can use polymorphism to create a function that can calculate and print the areas of different shape objects, regardless of their specific types.\n",
    "from abc import ABC, abstractmethod\n",
    "import math\n",
    "\n",
    "class Shape(ABC):\n",
    "    @abstractmethod\n",
    "    def area(self):\n",
    "        pass\n",
    "\n",
    "class Circle(Shape):\n",
    "    def __init__(self, radius):\n",
    "        self.radius = radius\n",
    "\n",
    "    def area(self):\n",
    "        return math.pi * (self.radius ** 2)\n",
    "\n",
    "class Rectangle(Shape):\n",
    "    def __init__(self, width, height):\n",
    "        self.width = width\n",
    "        self.height = height\n",
    "\n",
    "    def area(self):\n",
    "        return self.width * self.height\n"
   ]
  },
  {
   "cell_type": "code",
   "execution_count": 18,
   "id": "1ed45625-d072-4718-b1dd-cfec0bdb1e05",
   "metadata": {},
   "outputs": [
    {
     "name": "stdout",
     "output_type": "stream",
     "text": [
      "The area of the shape is: 78.53981633974483\n",
      "The area of the shape is: 24\n"
     ]
    }
   ],
   "source": [
    "def print_area(shape):\n",
    "    if isinstance(shape, Shape):\n",
    "        print(f\"The area of the shape is: {shape.area()}\")\n",
    "    else:\n",
    "        print(\"The provided object is not a Shape.\")\n",
    "\n",
    "circle = Circle(5)\n",
    "rectangle = Rectangle(4, 6)\n",
    "\n",
    "print_area(circle)      \n",
    "print_area(rectangle)   \n"
   ]
  },
  {
   "cell_type": "code",
   "execution_count": 19,
   "id": "811b2ecb-2920-4e1b-900e-3a0029f849e4",
   "metadata": {},
   "outputs": [],
   "source": [
    "# Q10.  Implement encapsulation in a `BankAccount` class with private attributes for `balance` and `account_number`. Include methods for deposit, withdrawal, and balance inquiry.\n",
    "\n",
    "\n",
    "class BankAccount:\n",
    "    def __init__(self, account_number, initial_balance=0):\n",
    "        self.__account_number = account_number\n",
    "        self.__balance = initial_balance\n",
    "\n",
    "    def deposit(self, amount):\n",
    "        if amount > 0:\n",
    "            self.__balance += amount\n",
    "            print(f\"Deposited ${amount}. New balance is ${self.__balance}.\")\n",
    "        else:\n",
    "            print(\"Deposit amount must be positive.\")\n",
    "\n",
    "    def withdraw(self, amount):\n",
    "        if amount > 0:\n",
    "            if amount <= self.__balance:\n",
    "                self.__balance -= amount\n",
    "                print(f\"Withdrew ${amount}. New balance is ${self.__balance}.\")\n",
    "            else:\n",
    "                print(\"Insufficient funds.\")\n",
    "        else:\n",
    "            print(\"Withdrawal amount must be positive.\")\n",
    "\n",
    "    def get_balance(self):\n",
    "        return self.__balance\n",
    "\n",
    "    def get_account_number(self):\n",
    "        return self.__account_number"
   ]
  },
  {
   "cell_type": "code",
   "execution_count": 20,
   "id": "9b1d89b5-e76c-4276-9c20-f9cebea575f4",
   "metadata": {},
   "outputs": [
    {
     "name": "stdout",
     "output_type": "stream",
     "text": [
      "Deposited $500. New balance is $1500.\n",
      "Withdrew $200. New balance is $1300.\n",
      "Current balance: $1300\n",
      "Account number: 123456789\n"
     ]
    }
   ],
   "source": [
    "account = BankAccount(\"123456789\", 1000)\n",
    "\n",
    "account.deposit(500)  \n",
    "\n",
    "account.withdraw(200)  \n",
    "\n",
    "print(f\"Current balance: ${account.get_balance()}\")  \n",
    "\n",
    "print(f\"Account number: {account.get_account_number()}\")  \n"
   ]
  },
  {
   "cell_type": "code",
   "execution_count": 21,
   "id": "140cddc7-e6a1-494c-8977-b97c4629e8fe",
   "metadata": {},
   "outputs": [
    {
     "name": "stdout",
     "output_type": "stream",
     "text": [
      "Vector(2, 3)\n",
      "Vector(4, 1)\n",
      "Vector(6, 4)\n"
     ]
    }
   ],
   "source": [
    "# Q11. Write a class that overrides the `__str__` and `__add__` magic methods. What will these methods allow you to do?\n",
    "\n",
    "# magic methods (also known as dunder methods, because they start and end with double underscores) allow you to define or override special behaviors for your classes. Two commonly used magic methods are __str__ and __add__.\n",
    "\n",
    "# __str__: Defines the string representation of an object, which is what gets displayed when you use print() on the object or convert it to a string using str().\n",
    "# __add__: Defines the behavior for the addition operator (+). It allows you to specify how objects of your class should be added together.\n",
    "\n",
    "class Vector:\n",
    "    def __init__(self, x, y):\n",
    "        self.x = x\n",
    "        self.y = y\n",
    "\n",
    "    def __str__(self):\n",
    "        return f\"Vector({self.x}, {self.y})\"\n",
    "\n",
    "    def __add__(self, other):\n",
    "        if isinstance(other, Vector):\n",
    "            return Vector(self.x + other.x, self.y + other.y)\n",
    "        return NotImplemented\n",
    "\n",
    "v1 = Vector(2, 3)\n",
    "v2 = Vector(4, 1)\n",
    "\n",
    "print(v1) \n",
    "print(v2)  \n",
    "\n",
    "v3 = v1 + v2\n",
    "print(v3)  \n"
   ]
  },
  {
   "cell_type": "code",
   "execution_count": 22,
   "id": "d4db01d0-efaf-4f63-bc99-ef6fc038c22f",
   "metadata": {},
   "outputs": [
    {
     "name": "stdout",
     "output_type": "stream",
     "text": [
      "Execution time: 0.070080 seconds\n",
      "Result: 499999500000\n"
     ]
    }
   ],
   "source": [
    "# Q12. Create a decorator that measures and prints the execution time of a function.\n",
    "\n",
    "import time\n",
    "def timing_decorator(func):\n",
    "    def wrapper(*args, **kwargs):\n",
    "        start_time = time.time()  \n",
    "        result = func(*args, **kwargs) \n",
    "        end_time = time.time()  \n",
    "        elapsed_time = end_time - start_time\n",
    "        print(f\"Execution time: {elapsed_time:.6f} seconds\")\n",
    "        return result\n",
    "    return wrapper\n",
    "\n",
    "@timing_decorator\n",
    "def example_function(n):\n",
    "    total = 0\n",
    "    for i in range(n):\n",
    "        total += i\n",
    "    return total\n",
    "\n",
    "result = example_function(1000000)\n",
    "print(f\"Result: {result}\")\n"
   ]
  },
  {
   "cell_type": "code",
   "execution_count": 24,
   "id": "e0c7e182-f6b5-4288-b733-ef5ca0052df8",
   "metadata": {},
   "outputs": [
    {
     "name": "stdout",
     "output_type": "stream",
     "text": [
      "Method in B\n"
     ]
    }
   ],
   "source": [
    "# Q13. Explain the concept of the Diamond Problem in multiple inheritance. How does Python resolve it?\n",
    "\n",
    "# The Diamond Problem is a common issue in object-oriented programming languages that support multiple inheritance. It arises when a class inherits from two classes that both inherit from a common base class. This creates a diamond-shaped inheritance diagram, where the derived class can end up with multiple paths to the same base class, leading to ambiguity.\n",
    "\n",
    "class A:\n",
    "    def method(self):\n",
    "        print(\"Method in A\")\n",
    "\n",
    "class B(A):\n",
    "    def method(self):\n",
    "        print(\"Method in B\")\n",
    "\n",
    "class C(A):\n",
    "    def method(self):\n",
    "        print(\"Method in C\")\n",
    "\n",
    "class D(B, C):\n",
    "    pass\n",
    "\n",
    "d = D()\n",
    "d.method()  \n",
    "\n",
    "# D inherits from both B and C, which in turn inherit from A.\n",
    "# The method method is overridden in both B and C."
   ]
  },
  {
   "cell_type": "code",
   "execution_count": 25,
   "id": "680f8b7b-297c-4eb0-b12f-962d4bfcb45f",
   "metadata": {},
   "outputs": [
    {
     "name": "stdout",
     "output_type": "stream",
     "text": [
      "Number of instances created: 3\n"
     ]
    }
   ],
   "source": [
    "# Q14. Write a class method that keeps track of the number of instances created from a class.\n",
    "\n",
    "class InstanceCounter:\n",
    "    _instance_count = 0\n",
    "\n",
    "    def __init__(self):\n",
    "        InstanceCounter._instance_count += 1\n",
    "\n",
    "    @classmethod\n",
    "    def get_instance_count(cls):\n",
    "        return cls._instance_count\n",
    "\n",
    "if __name__ == \"__main__\":\n",
    "    obj1 = InstanceCounter()\n",
    "    obj2 = InstanceCounter()\n",
    "    obj3 = InstanceCounter()\n",
    "\n",
    "    print(f\"Number of instances created: {InstanceCounter.get_instance_count()}\")\n"
   ]
  },
  {
   "cell_type": "code",
   "execution_count": 26,
   "id": "80cd953a-e70a-4ea7-be1c-ab3ce59ea083",
   "metadata": {},
   "outputs": [
    {
     "name": "stdout",
     "output_type": "stream",
     "text": [
      "Year 1900 is a leap year: False\n",
      "Year 2000 is a leap year: True\n",
      "Year 2004 is a leap year: True\n",
      "Year 2100 is a leap year: False\n",
      "Year 2024 is a leap year: True\n"
     ]
    }
   ],
   "source": [
    "# Q15. Implement a static method in a class that checks if a given year is a leap year.\n",
    "\n",
    "class YearUtils:\n",
    "    @staticmethod\n",
    "    def is_leap_year(year):\n",
    "        if year % 4 == 0:\n",
    "            if year % 100 == 0:\n",
    "                if year % 400 == 0:\n",
    "                    return True\n",
    "                else:\n",
    "                    return False\n",
    "            else:\n",
    "                return True\n",
    "        else:\n",
    "            return False\n",
    "\n",
    "if __name__ == \"__main__\":\n",
    "    years_to_check = [1900, 2000, 2004, 2100, 2024]\n",
    "    \n",
    "    for year in years_to_check:\n",
    "        print(f\"Year {year} is a leap year: {YearUtils.is_leap_year(year)}\")\n"
   ]
  },
  {
   "cell_type": "code",
   "execution_count": null,
   "id": "761fec4d-3ce9-4132-ac74-fba6a8ea2c64",
   "metadata": {},
   "outputs": [],
   "source": []
  }
 ],
 "metadata": {
  "kernelspec": {
   "display_name": "Python 3 (ipykernel)",
   "language": "python",
   "name": "python3"
  },
  "language_info": {
   "codemirror_mode": {
    "name": "ipython",
    "version": 3
   },
   "file_extension": ".py",
   "mimetype": "text/x-python",
   "name": "python",
   "nbconvert_exporter": "python",
   "pygments_lexer": "ipython3",
   "version": "3.10.8"
  }
 },
 "nbformat": 4,
 "nbformat_minor": 5
}
